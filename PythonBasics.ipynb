{
  "nbformat": 4,
  "nbformat_minor": 0,
  "metadata": {
    "colab": {
      "provenance": [],
      "collapsed_sections": [
        "_Q-37xXsD3zq",
        "8eSXahnlD-1C",
        "hWhQtS_GHC0K",
        "ZaWxoJu_HsWS",
        "l3JtdKEHH-5F",
        "V4n5XPr6IZSP",
        "nUJDQyWdKFHe",
        "qro8gr9fLjpo",
        "SHF21gQENm_w",
        "vnJh82H7OUxP",
        "vGEG7QPCPQDY",
        "hUCk0hqJQTOC",
        "M8XlUU8lRASz",
        "WX4IVd1HXPWE",
        "E3dJTDnrYsU2",
        "1KsxWgy2Y_fJ",
        "tyBJvuNZcriF"
      ]
    },
    "kernelspec": {
      "name": "python3",
      "display_name": "Python 3"
    },
    "language_info": {
      "name": "python"
    }
  },
  "cells": [
    {
      "cell_type": "markdown",
      "source": [
        "# Python Basics"
      ],
      "metadata": {
        "id": "cXu00jy1_NnM"
      }
    },
    {
      "cell_type": "markdown",
      "source": [
        "# 1.What is Python, and why is it popular?"
      ],
      "metadata": {
        "id": "_Q-37xXsD3zq"
      }
    },
    {
      "cell_type": "markdown",
      "source": [
        "-> Python is a programming language renowned for its simplicity, readability, and versatility, making it a widely used choice for Artificial Intelligence (AI) development due to its extensive libraries for data analysis, machine learning, and a large, supportive community that facilitates rapid prototyping and project development.\n",
        "\n",
        "Python is Popular because-\n",
        "\n",
        "It is Easy to Learn\n",
        "\n",
        "It has Lot of Libraries\n",
        "\n",
        "Large community contribute to it and in it's development\n",
        "\n",
        "Used in Automation, Web Development, Front-End, Back-End(Database Connection), etc.\n",
        "\n",
        "Used in Machine Learning, Data Science and Data Analytics"
      ],
      "metadata": {
        "id": "IgXQrYNsDPua"
      }
    },
    {
      "cell_type": "markdown",
      "source": [
        "# 2. What is an interpreter in Python?"
      ],
      "metadata": {
        "id": "8eSXahnlD-1C"
      }
    },
    {
      "cell_type": "markdown",
      "source": [
        "-> A python interpreter is a computer program that converts python written code into machine code(0s and 1s). An interpreter translates the command that you write out into Machine Code that the computer can understand."
      ],
      "metadata": {
        "id": "zv1KBtAZE2uk"
      }
    },
    {
      "cell_type": "markdown",
      "source": [],
      "metadata": {
        "id": "Nq1A1VHiFVCR"
      }
    },
    {
      "cell_type": "markdown",
      "source": [
        "# 3. What are pre-defined keywords in Python?"
      ],
      "metadata": {
        "id": "hWhQtS_GHC0K"
      }
    },
    {
      "cell_type": "markdown",
      "source": [
        "-> Pre-defined kewords are reserved words in Python which have some special meaning. We should not use Keyword as Variable during initialization. Example- try, import, break, continue are some examples of pre-defined keywords."
      ],
      "metadata": {
        "id": "EKas3eVeHKBE"
      }
    },
    {
      "cell_type": "markdown",
      "source": [
        "# 4. Can keywords be used as variable names?"
      ],
      "metadata": {
        "id": "ZaWxoJu_HsWS"
      }
    },
    {
      "cell_type": "markdown",
      "source": [
        "-> No, Keywords cannot be used as Variable names"
      ],
      "metadata": {
        "id": "HUmBihXNH1r4"
      }
    },
    {
      "cell_type": "markdown",
      "source": [
        "# 5. What is mutability in Python?"
      ],
      "metadata": {
        "id": "l3JtdKEHH-5F"
      }
    },
    {
      "cell_type": "markdown",
      "source": [
        "-> Everything in Python is Object. Objects whose values can be changed after their creation is mutability. Example: List"
      ],
      "metadata": {
        "id": "Kjh0791FIFqM"
      }
    },
    {
      "cell_type": "markdown",
      "source": [
        "# 6. Why are lists mutable, but tuples are immutable?"
      ],
      "metadata": {
        "id": "V4n5XPr6IZSP"
      }
    },
    {
      "cell_type": "markdown",
      "source": [
        "-> A tuple is a sequence of elements. However, once set, we cannot change a tuple. A tuple offers a guarantee that a particular collection of objects will remain fixed throughout the code. While in case of Lists, other method in program can change the value of objects of lists because Lists can be changed after they are created, allowing you to add, remove, or modify individual elements within the list without needing to create a new list object."
      ],
      "metadata": {
        "id": "VVZF1K76Il8v"
      }
    },
    {
      "cell_type": "markdown",
      "source": [
        "# 7. What is the difference between “==” and “is” operators in Python?"
      ],
      "metadata": {
        "id": "nUJDQyWdKFHe"
      }
    },
    {
      "cell_type": "markdown",
      "source": [
        "-> \"==\"(Equality Operator) is a type of Comparison Operator used for checking whether the operands are equal or not and returns bool type.\n",
        "   \n",
        "  \"is\" is Identity operator compares the memory addresses of two objects and\n",
        "  returns bool type."
      ],
      "metadata": {
        "id": "SdXFNwabKLqA"
      }
    },
    {
      "cell_type": "markdown",
      "source": [
        "# 8. What are logical operators in Python?"
      ],
      "metadata": {
        "id": "qro8gr9fLjpo"
      }
    },
    {
      "cell_type": "markdown",
      "source": [
        "-> Logical Operators are based on Logic AND, Logic OR and Logic NOT.Logical operators in Python are used to combine multiple conditions and evaluate their truthiness. There are three logical operators:\n",
        "\n",
        "and: Returns True if both operands are true.\n",
        "\n",
        "or: Returns True if at least one of the operand is true.\n",
        "\n",
        "not: Reverses the logical state of the operand\n",
        "\n",
        "In addition, there is one more operator:-\n",
        "\n",
        "XOR(^): Returns False when both operands have same truth value"
      ],
      "metadata": {
        "id": "bUC8qhDfL3sm"
      }
    },
    {
      "cell_type": "markdown",
      "source": [
        "# 9. What is type casting in Python?"
      ],
      "metadata": {
        "id": "SHF21gQENm_w"
      }
    },
    {
      "cell_type": "markdown",
      "source": [
        "-> Type casting or Type conversion is the conversion in type of variable from one type to another without loss of any bits of that variable. The two types of Typecasting are-\n",
        "\n",
        "1. Implicit Typecasting\n",
        "2. Explicit Typecasting"
      ],
      "metadata": {
        "id": "xeKifx-DNtlg"
      }
    },
    {
      "cell_type": "markdown",
      "source": [
        "# 10. What is the difference between implicit and explicit type casting?"
      ],
      "metadata": {
        "id": "vnJh82H7OUxP"
      }
    },
    {
      "cell_type": "markdown",
      "source": [
        "-> Implicit type casting- Also known as widening conversion, this is when the compiler automatically casts data types when there is no data loss. It's typically used to convert smaller data types to larger data types. Example-\n",
        "a=6.2\n",
        "b=4\n",
        "a*b\n",
        "\n",
        "Explicit type casting- This is when the programmer manually defines the type conversion. Example-\n",
        "int(10.1)"
      ],
      "metadata": {
        "id": "2j1Buda0OcjR"
      }
    },
    {
      "cell_type": "markdown",
      "source": [
        "# 11. What is the purpose of conditional statements in Python?"
      ],
      "metadata": {
        "id": "vGEG7QPCPQDY"
      }
    },
    {
      "cell_type": "markdown",
      "source": [
        "-> Conditional statements are used to help machines to take decisions on their own based on pre-conditions. Conditional statements in Python allow you to control the flow of your program based on certain conditions. Example-\n",
        "\n",
        "Is a number greater than another?\n",
        "\n",
        "Is a string equal to a specific value?\n",
        "\n",
        "Is a variable of a certain type?"
      ],
      "metadata": {
        "id": "AUqCR2L7PWH8"
      }
    },
    {
      "cell_type": "markdown",
      "source": [
        "# 12. How does the elif statement work?"
      ],
      "metadata": {
        "id": "hUCk0hqJQTOC"
      }
    },
    {
      "cell_type": "markdown",
      "source": [
        "-> An \"elif\" statement stands for \"else if\" and is used to check for additional conditions sequentially if the initial \"if\" condition is not met; essentially, it allows you to evaluate multiple conditions one after another until one is found to be true, then execute the corresponding code block, only one block of code within an \"if-elif-else\" chain will be executed depending on which condition is met.\n",
        "\n",
        "Syntax: \"if condition1: ... elif condition2: ... elif condition3: ... else: ...\""
      ],
      "metadata": {
        "id": "iUmg72yDQfNb"
      }
    },
    {
      "cell_type": "markdown",
      "source": [
        "# 13. What is the difference between for and while loops?"
      ],
      "metadata": {
        "id": "M8XlUU8lRASz"
      }
    },
    {
      "cell_type": "markdown",
      "source": [
        "-> For loop is used to iterate over a sequence of items.\n",
        "   For loop is typically used for iterating over a fixed sequence of items.\n",
        "   For loop is more efficient than a while loop when iterating over sequences, since the number of iterations is predetermined and the loop can be optimized accordingly.\n",
        "\n",
        "   While Loop\n",
        "\n",
        "   While loop is used to repeatedly execute a piece of code until condition is met.\n",
        "   While the loop requires an initial condition that is tested at the beginning of the loop.\n",
        "   While a loop may be more efficient in certain situations where the condition being tested can be evaluated quickly.\n",
        "\n"
      ],
      "metadata": {
        "id": "ZUKh4Y9pRIE4"
      }
    },
    {
      "cell_type": "markdown",
      "source": [
        "# 14. Describe a scenario where a while loop is more suitable than for loop."
      ],
      "metadata": {
        "id": "UPXH1TrsSiTO"
      }
    },
    {
      "cell_type": "markdown",
      "source": [
        "-> 'for' loop, which is generally used when the number of iterations is known beforehand, a 'while' loop is ideal for situations where the number of iterations is not predetermined and depends on some dynamic condition. For example- Reading lines from a file until you reach the end."
      ],
      "metadata": {
        "id": "m7VJ5mrxSnws"
      }
    },
    {
      "cell_type": "markdown",
      "source": [
        "# Practical Questions"
      ],
      "metadata": {
        "id": "a7hKYULvUvMi"
      }
    },
    {
      "cell_type": "markdown",
      "source": [
        "# 1.Write a Python program to print \"Hello, World!."
      ],
      "metadata": {
        "id": "WX4IVd1HXPWE"
      }
    },
    {
      "cell_type": "code",
      "source": [
        "\"\"\"\n",
        "print(\"Hello,World!\")\n",
        "\"\"\""
      ],
      "metadata": {
        "id": "3ScV3YeCXSLt"
      },
      "execution_count": null,
      "outputs": []
    },
    {
      "cell_type": "markdown",
      "source": [
        "# 2.Write a Python program that displays your name and age."
      ],
      "metadata": {
        "id": "mSz9RCXwXbO6"
      }
    },
    {
      "cell_type": "code",
      "source": [
        "\"\"\"\n",
        "name= \"Chetan Das\"\n",
        "age= \"25 years\"\n",
        "print(name)\n",
        "print(age)\n",
        "\"\"\""
      ],
      "metadata": {
        "colab": {
          "base_uri": "https://localhost:8080/",
          "height": 35
        },
        "id": "-1GsdGpzXgwu",
        "outputId": "dd5cba39-ea2e-43ad-f201-155115e97fe4"
      },
      "execution_count": 15,
      "outputs": [
        {
          "output_type": "execute_result",
          "data": {
            "text/plain": [
              "'\\nname= \"Chetan Das\"\\nage= \"25 years\"\\nprint(name)\\nprint(age)\\n\\n'"
            ],
            "application/vnd.google.colaboratory.intrinsic+json": {
              "type": "string"
            }
          },
          "metadata": {},
          "execution_count": 15
        }
      ]
    },
    {
      "cell_type": "markdown",
      "source": [
        "# 3.Write code to print all the pre-defined keywords in Python using the keyword library."
      ],
      "metadata": {
        "id": "E3dJTDnrYsU2"
      }
    },
    {
      "cell_type": "code",
      "source": [
        "\"\"\"\n",
        "import keyword\n",
        "print(keyword.kwlist)\n",
        "\"\"\""
      ],
      "metadata": {
        "colab": {
          "base_uri": "https://localhost:8080/"
        },
        "id": "EdcfRflhY0up",
        "outputId": "d6361771-46bf-4ffb-f287-35935cbf4a32"
      },
      "execution_count": 34,
      "outputs": [
        {
          "output_type": "stream",
          "name": "stdout",
          "text": [
            "['False', 'None', 'True', 'and', 'as', 'assert', 'async', 'await', 'break', 'class', 'continue', 'def', 'del', 'elif', 'else', 'except', 'finally', 'for', 'from', 'global', 'if', 'import', 'in', 'is', 'lambda', 'nonlocal', 'not', 'or', 'pass', 'raise', 'return', 'try', 'while', 'with', 'yield']\n"
          ]
        }
      ]
    },
    {
      "cell_type": "markdown",
      "source": [
        "# 4. Write a program that checks if a given word is a Python keyword."
      ],
      "metadata": {
        "id": "1KsxWgy2Y_fJ"
      }
    },
    {
      "cell_type": "code",
      "source": [
        "\"\"\"\n",
        "import keyword\n",
        "word = input(\"Enter a word: \")\n",
        "a=keyword.iskeyword(word)\n",
        "if a==1:\n",
        "    print(\"The word is keyword\")\n",
        "else:\n",
        "    print(\"The word is not a keyword\")\n",
        "\"\"\""
      ],
      "metadata": {
        "colab": {
          "base_uri": "https://localhost:8080/"
        },
        "id": "PmzkvY12ZLV6",
        "outputId": "7a7d4f50-d798-40f0-b129-a9a7bdbee127"
      },
      "execution_count": 33,
      "outputs": [
        {
          "output_type": "stream",
          "name": "stdout",
          "text": [
            "Enter a word: try\n",
            "The word is keyword\n"
          ]
        }
      ]
    },
    {
      "cell_type": "markdown",
      "source": [
        "# 5. Create a list and tuple in Python, and demonstrate how attempting to change an element works differently for each."
      ],
      "metadata": {
        "id": "tyBJvuNZcriF"
      }
    },
    {
      "cell_type": "code",
      "source": [
        "\"\"\"\n",
        "l = [1,2,\"Ramesh\",4,5,6]\n",
        "print(l)\n",
        "t = (1,2,3,4,5)\n",
        "l[2] = 3\n",
        "print(l)\n",
        "\"\"\""
      ],
      "metadata": {
        "colab": {
          "base_uri": "https://localhost:8080/"
        },
        "id": "b-DeiiWOc16Z",
        "outputId": "c73c07cf-e920-47a4-a3ae-66e2ecdea4dd"
      },
      "execution_count": 38,
      "outputs": [
        {
          "output_type": "stream",
          "name": "stdout",
          "text": [
            "[1, 2, 'Ramesh', 4, 5, 6]\n",
            "[1, 2, 3, 4, 5, 6]\n"
          ]
        }
      ]
    },
    {
      "cell_type": "code",
      "source": [
        "\"\"\"\n",
        "t= (1,2,3,4,\"Ramesh\")\n",
        "print(t)\n",
        "t[4] = 5\n",
        "print(t)\n",
        "\"\"\""
      ],
      "metadata": {
        "colab": {
          "base_uri": "https://localhost:8080/",
          "height": 211
        },
        "id": "x6ttdOLdd2_G",
        "outputId": "0b32a6ca-6726-4e41-e374-cc548c307e1b"
      },
      "execution_count": 39,
      "outputs": [
        {
          "output_type": "stream",
          "name": "stdout",
          "text": [
            "(1, 2, 3, 4, 'Ramesh')\n"
          ]
        },
        {
          "output_type": "error",
          "ename": "TypeError",
          "evalue": "'tuple' object does not support item assignment",
          "traceback": [
            "\u001b[0;31m---------------------------------------------------------------------------\u001b[0m",
            "\u001b[0;31mTypeError\u001b[0m                                 Traceback (most recent call last)",
            "\u001b[0;32m<ipython-input-39-e92687ae15a4>\u001b[0m in \u001b[0;36m<cell line: 3>\u001b[0;34m()\u001b[0m\n\u001b[1;32m      1\u001b[0m \u001b[0mt\u001b[0m\u001b[0;34m=\u001b[0m \u001b[0;34m(\u001b[0m\u001b[0;36m1\u001b[0m\u001b[0;34m,\u001b[0m\u001b[0;36m2\u001b[0m\u001b[0;34m,\u001b[0m\u001b[0;36m3\u001b[0m\u001b[0;34m,\u001b[0m\u001b[0;36m4\u001b[0m\u001b[0;34m,\u001b[0m\u001b[0;34m\"Ramesh\"\u001b[0m\u001b[0;34m)\u001b[0m\u001b[0;34m\u001b[0m\u001b[0;34m\u001b[0m\u001b[0m\n\u001b[1;32m      2\u001b[0m \u001b[0mprint\u001b[0m\u001b[0;34m(\u001b[0m\u001b[0mt\u001b[0m\u001b[0;34m)\u001b[0m\u001b[0;34m\u001b[0m\u001b[0;34m\u001b[0m\u001b[0m\n\u001b[0;32m----> 3\u001b[0;31m \u001b[0mt\u001b[0m\u001b[0;34m[\u001b[0m\u001b[0;36m4\u001b[0m\u001b[0;34m]\u001b[0m \u001b[0;34m=\u001b[0m \u001b[0;36m5\u001b[0m\u001b[0;34m\u001b[0m\u001b[0;34m\u001b[0m\u001b[0m\n\u001b[0m\u001b[1;32m      4\u001b[0m \u001b[0mprint\u001b[0m\u001b[0;34m(\u001b[0m\u001b[0mt\u001b[0m\u001b[0;34m)\u001b[0m\u001b[0;34m\u001b[0m\u001b[0;34m\u001b[0m\u001b[0m\n",
            "\u001b[0;31mTypeError\u001b[0m: 'tuple' object does not support item assignment"
          ]
        }
      ]
    },
    {
      "cell_type": "markdown",
      "source": [
        "# 6. Write a function to demonstrate the behavior of mutable and immutable arguments."
      ],
      "metadata": {
        "id": "8wn3FOE7edij"
      }
    },
    {
      "cell_type": "code",
      "source": [
        "\"\"\" def modify_arguments(immutable_arg, mutable_arg):\n",
        "    Demonstrates the behavior of mutable and immutable arguments.\n",
        "\n",
        "    immutable_arg += 1\n",
        "    mutable_arg.append(4)\n",
        "\n",
        "    print(\"Inside function:\")\n",
        "    print(\"Immutable argument:\", immutable_arg)\n",
        "    print(\"Mutable argument:\", mutable_arg)\n",
        "\n",
        "Initialize arguments\n",
        "num = 5\n",
        "my_list = [1, 2, 3]\n",
        "\n",
        "print(\"Before function call:\")\n",
        "print(\"num:\", num)\n",
        "print(\"my_list:\", my_list)\n",
        "\n",
        "modify_arguments(num, my_list)\n",
        "\n",
        "print(\"After function call:\")\n",
        "print(\"num:\", num)\n",
        "print(\"my_list:\", my_list)\n",
        "\"\"\""
      ],
      "metadata": {
        "colab": {
          "base_uri": "https://localhost:8080/"
        },
        "id": "D8ulH0k4e5_3",
        "outputId": "b6434bff-42d8-430e-8d6d-b8414d324a74"
      },
      "execution_count": 40,
      "outputs": [
        {
          "output_type": "stream",
          "name": "stdout",
          "text": [
            "Before function call:\n",
            "num: 5\n",
            "my_list: [1, 2, 3]\n",
            "Inside function:\n",
            "Immutable argument: 6\n",
            "Mutable argument: [1, 2, 3, 4]\n",
            "After function call:\n",
            "num: 5\n",
            "my_list: [1, 2, 3, 4]\n"
          ]
        }
      ]
    },
    {
      "cell_type": "markdown",
      "source": [
        "# 7. Write a function to demonstrate the behavior of mutable and immutable arguments."
      ],
      "metadata": {
        "id": "C-AKBaUVfYWt"
      }
    },
    {
      "cell_type": "code",
      "source": [
        "\"\"\"\n",
        "def modify_arguments(immutable_arg, mutable_arg):\n",
        "    \"\"\"Demonstrates the behavior of mutable and immutable arguments.\"\"\"\n",
        "\n",
        "    immutable_arg += 1\n",
        "    mutable_arg.append(4)\n",
        "\n",
        "    print(\"Inside function:\")\n",
        "    print(\"Immutable argument:\", immutable_arg)\n",
        "    print(\"Mutable argument:\", mutable_arg)\n",
        "\n",
        "# Initialize arguments\n",
        "num = 5\n",
        "my_list = [1, 2, 3]\n",
        "\n",
        "print(\"Before function call:\")\n",
        "print(\"num:\", num)\n",
        "print(\"my_list:\", my_list)\n",
        "\n",
        "modify_arguments(num, my_list)\n",
        "\n",
        "print(\"After function call:\")\n",
        "print(\"num:\", num)\n",
        "print(\"my_list:\", my_list)\n",
        "\"\"\""
      ],
      "metadata": {
        "id": "7nC18FAUffjQ"
      },
      "execution_count": null,
      "outputs": []
    },
    {
      "cell_type": "markdown",
      "source": [
        "# 8. Write a program to demonstrate the use of logical operators."
      ],
      "metadata": {
        "id": "1DdZz7kvfosX"
      }
    },
    {
      "cell_type": "code",
      "source": [
        "\"\"\"\n",
        "# Logical AND\n",
        "age = 25\n",
        "salary = 30000\n",
        "\n",
        "if age > 18 and salary >= 25000:\n",
        "    print(\"Eligible for credit card.\")\n",
        "\n",
        "# Logical OR\n",
        "feature_a_enabled = True\n",
        "feature_b_enabled = False\n",
        "\n",
        "if feature_a_enabled or feature_b_enabled:\n",
        "    print(\"At least one feature is enabled.\")\n",
        "\n",
        "# Logical NOT\n",
        "is_raining = False\n",
        "\n",
        "if not is_raining:\n",
        "    print(\"Go for a walk.\")\n",
        "\"\"\""
      ],
      "metadata": {
        "colab": {
          "base_uri": "https://localhost:8080/"
        },
        "id": "kT5leuxwfxLR",
        "outputId": "96a9fdd5-053e-4a4b-d4f4-33f04fb8b4d4"
      },
      "execution_count": 41,
      "outputs": [
        {
          "output_type": "stream",
          "name": "stdout",
          "text": [
            "Eligible for credit card.\n",
            "At least one feature is enabled.\n",
            "Go for a walk.\n"
          ]
        }
      ]
    },
    {
      "cell_type": "markdown",
      "source": [
        "# 9. Write a Python program to convert user input from string to integer, float, and boolean types."
      ],
      "metadata": {
        "id": "SqjcB154gvEw"
      }
    },
    {
      "cell_type": "code",
      "source": [
        "\"\"\"str=input(\"Enter a string: \")\n",
        "print(int(str))\n",
        "print(float(str))\n",
        "print(bool(str))\n",
        "\"\"\""
      ],
      "metadata": {
        "colab": {
          "base_uri": "https://localhost:8080/"
        },
        "id": "sTObXHXJg1dE",
        "outputId": "84ef763b-562a-48e2-f8a9-25b50ec2d496"
      },
      "execution_count": 43,
      "outputs": [
        {
          "output_type": "stream",
          "name": "stdout",
          "text": [
            "Enter a string: 5\n",
            "5\n",
            "5.0\n",
            "True\n"
          ]
        }
      ]
    },
    {
      "cell_type": "markdown",
      "source": [
        "# 10. Write code to demonstrate type casting with list elements."
      ],
      "metadata": {
        "id": "U1p6J2H1htRl"
      }
    },
    {
      "cell_type": "code",
      "source": [
        "\"\"\"\n",
        "my_list = [1, 2.5, \"3\", \"4.5\"]\n",
        "\n",
        "# Cast element to an integer\n",
        "print(int(my_list[1]))\n",
        "\n",
        "# Cast element to a float\n",
        "print(float(my_list[0]))\n",
        "\n",
        "# Cast element to a bool\n",
        "bool(my_list[0])\n",
        "\"\"\""
      ],
      "metadata": {
        "colab": {
          "base_uri": "https://localhost:8080/"
        },
        "id": "lNVSG6cIhzXT",
        "outputId": "4497bae2-7027-4a4b-b212-2823952afec4"
      },
      "execution_count": 52,
      "outputs": [
        {
          "output_type": "stream",
          "name": "stdout",
          "text": [
            "2\n",
            "1.0\n"
          ]
        },
        {
          "output_type": "execute_result",
          "data": {
            "text/plain": [
              "True"
            ]
          },
          "metadata": {},
          "execution_count": 52
        }
      ]
    },
    {
      "cell_type": "markdown",
      "source": [
        "# 11. Write a program that checks if a number is positive, negative, or zero."
      ],
      "metadata": {
        "id": "Z-j-LpzrkAKm"
      }
    },
    {
      "cell_type": "code",
      "source": [
        "\"\"\"\n",
        "s=input(\"Enter a number: \")\n",
        "num=int(s)\n",
        "if (num<0):\n",
        "  print(\"Number is Negative\")\n",
        "elif (num>0):\n",
        "  print(\"Number is Positive\")\n",
        "else:\n",
        "  print(\"Number is zero\")\n",
        "\"\"\""
      ],
      "metadata": {
        "colab": {
          "base_uri": "https://localhost:8080/"
        },
        "id": "RPyU3L3XkFBP",
        "outputId": "f47762b8-6d13-4d74-bc8a-87f77a81e340"
      },
      "execution_count": 57,
      "outputs": [
        {
          "output_type": "stream",
          "name": "stdout",
          "text": [
            "Enter a number: 50\n",
            "Number is Positive\n"
          ]
        }
      ]
    },
    {
      "cell_type": "markdown",
      "source": [
        "# 12. Write a for loop to print numbers from 1 to 10."
      ],
      "metadata": {
        "id": "iLq_NbjAlHin"
      }
    },
    {
      "cell_type": "code",
      "source": [
        "\"\"\"\n",
        "for i in range(1,11):\n",
        "    print(i)\n",
        "\"\"\""
      ],
      "metadata": {
        "colab": {
          "base_uri": "https://localhost:8080/"
        },
        "id": "ySBYwD-xlMEl",
        "outputId": "15e2f44e-a5f6-4b4b-e3ce-fb3c07742b5a"
      },
      "execution_count": 59,
      "outputs": [
        {
          "output_type": "stream",
          "name": "stdout",
          "text": [
            "1\n",
            "2\n",
            "3\n",
            "4\n",
            "5\n",
            "6\n",
            "7\n",
            "8\n",
            "9\n",
            "10\n"
          ]
        }
      ]
    },
    {
      "cell_type": "markdown",
      "source": [
        "# 13. Write a Python program to find the sum of all even numbers between 1 and 50."
      ],
      "metadata": {
        "id": "D-ApYngCll5j"
      }
    },
    {
      "cell_type": "code",
      "source": [
        "\"\"\"\n",
        "sum=0\n",
        "for i in range(1,51):\n",
        "    if(i%2==0):\n",
        "       sum=sum+i\n",
        "print(\"Sum is: \", sum)\n",
        "\"\"\""
      ],
      "metadata": {
        "colab": {
          "base_uri": "https://localhost:8080/"
        },
        "id": "zXDXpPd-lwWH",
        "outputId": "9cc9c827-654d-4135-baf8-36e5599a715c"
      },
      "execution_count": 60,
      "outputs": [
        {
          "output_type": "stream",
          "name": "stdout",
          "text": [
            "650\n"
          ]
        }
      ]
    },
    {
      "cell_type": "markdown",
      "source": [
        "# 14. Write a program to reverse a string using a while loop."
      ],
      "metadata": {
        "id": "eAoWKAx-mmZz"
      }
    },
    {
      "cell_type": "code",
      "source": [
        "\"\"\"\n",
        "s= \"Ramesh\"\n",
        "print(\"The original string  is : \",s)\n",
        "reverse_String = \"\"\n",
        "l = len(s)\n",
        "while l>0:\n",
        "    reverse_String += s[l-1 ]\n",
        "    l=l-1\n",
        "print(\"The reversed string using a while loop is : \",reverse_String)\n",
        "\"\"\""
      ],
      "metadata": {
        "colab": {
          "base_uri": "https://localhost:8080/"
        },
        "id": "_Gz-jzN5mroP",
        "outputId": "25ae1c3e-260c-41da-8551-845205c6f38e"
      },
      "execution_count": 68,
      "outputs": [
        {
          "output_type": "stream",
          "name": "stdout",
          "text": [
            "The original string  is :  Ramesh\n",
            "The reversed string using a while loop is :  hsemaR\n"
          ]
        }
      ]
    },
    {
      "cell_type": "markdown",
      "source": [
        "# 15. Write a Python program to calculate the factorial of a number provided by the user using a while loop."
      ],
      "metadata": {
        "id": "l26SCUzrr0H0"
      }
    },
    {
      "cell_type": "code",
      "source": [
        "\"\"\"\n",
        "s=input(\"Enter the number: \")\n",
        "print(\"Number is\", s)\n",
        "num=int(s)\n",
        "fact=num-1\n",
        "while(fact>0):\n",
        "    num=num*fact\n",
        "    fact=fact-1\n",
        "print(\"The Factorial is: \", num)\n",
        "\"\"\""
      ],
      "metadata": {
        "colab": {
          "base_uri": "https://localhost:8080/"
        },
        "id": "4k7RleK6r5_y",
        "outputId": "adea419f-275b-434f-b710-a18f62189961"
      },
      "execution_count": 72,
      "outputs": [
        {
          "output_type": "stream",
          "name": "stdout",
          "text": [
            "Enter the number: 6\n",
            "Number is 6\n",
            "The Factorial is:  720\n"
          ]
        }
      ]
    }
  ]
}